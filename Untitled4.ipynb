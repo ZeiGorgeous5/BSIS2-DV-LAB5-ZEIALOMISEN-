{
  "nbformat": 4,
  "nbformat_minor": 0,
  "metadata": {
    "colab": {
      "provenance": [],
      "authorship_tag": "ABX9TyPX09uv69ZYHfJTJRuBZpGV",
      "include_colab_link": true
    },
    "kernelspec": {
      "name": "python3",
      "display_name": "Python 3"
    },
    "language_info": {
      "name": "python"
    }
  },
  "cells": [
    {
      "cell_type": "markdown",
      "metadata": {
        "id": "view-in-github",
        "colab_type": "text"
      },
      "source": [
        "<a href=\"https://colab.research.google.com/github/ZeiGorgeous5/BSIS2-DV-LAB5-ZEIALOMISEN-/blob/main/Untitled4.ipynb\" target=\"_parent\"><img src=\"https://colab.research.google.com/assets/colab-badge.svg\" alt=\"Open In Colab\"/></a>"
      ]
    },
    {
      "cell_type": "code",
      "execution_count": null,
      "metadata": {
        "colab": {
          "base_uri": "https://localhost:8080/"
        },
        "id": "d0z6MMaygThc",
        "outputId": "b1c6145e-a925-4a49-a1c2-c135f7220f10"
      },
      "outputs": [
        {
          "output_type": "stream",
          "name": "stdout",
          "text": [
            "What is the temperature outside? : 30\n",
            "the temperature is good today\n",
            "can go outside!\n"
          ]
        }
      ],
      "source": [
        "temp = int(input(\"What is the temperature outside? : \"))\n",
        "\n",
        "if temp >= 0 and temp <= 30: \n",
        "  print(\"the temperature is good today\") \n",
        "  print(\"can go outside!\") \n",
        "elif temp < 0 or temp > 30:\n",
        "  print(\"the temperature is bad today!\")\n",
        "  print(\"you must stay inside!\")"
      ]
    },
    {
      "cell_type": "code",
      "source": [
        "temp = int(input(\"What is the temperature outside? : \"))\n",
        "\n",
        "if temp >= 0 and temp <= 30: \n",
        "  print(\"the temperature is good today\") \n",
        "  print(\"can go outside!\") \n",
        "elif temp < 0 or temp > 30:\n",
        "  print(\"the temperature is bad today!\")\n",
        "  print(\"you must stay inside!\")"
      ],
      "metadata": {
        "id": "niVrfZ-agoIu",
        "colab": {
          "base_uri": "https://localhost:8080/"
        },
        "outputId": "08354cf2-c244-472f-dda4-a75df0bff727"
      },
      "execution_count": 2,
      "outputs": [
        {
          "output_type": "stream",
          "name": "stdout",
          "text": [
            "What is the temperature outside? : 30\n",
            "the temperature is good today\n",
            "can go outside!\n"
          ]
        }
      ]
    },
    {
      "cell_type": "code",
      "source": [
        "\n",
        "temp = int(input(\"What is the temperature outside? : \"))\n",
        "\n",
        "if temp >= 0 and temp <= 30: \n",
        "  print(\"the temperature is good today\") \n",
        "  print(\"can go outside!\") \n",
        "elif temp < 0 or temp > 30:\n",
        "  print(\"the temperature is bad today!\")\n",
        "  print(\"you must stay inside!\")"
      ],
      "metadata": {
        "colab": {
          "base_uri": "https://localhost:8080/"
        },
        "id": "Iw28dcYchRbK",
        "outputId": "33340403-7dcf-45e5-e058-b386cc6c8841"
      },
      "execution_count": 3,
      "outputs": [
        {
          "output_type": "stream",
          "name": "stdout",
          "text": [
            "What is the temperature outside? : 35\n",
            "the temperature is bad today!\n",
            "you must stay inside!\n"
          ]
        }
      ]
    }
  ]
}